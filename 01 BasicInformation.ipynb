{
 "cells": [
  {
   "cell_type": "markdown",
   "metadata": {},
   "source": [
    "Crawling precise basic information of videos on Bilibili"
   ]
  },
  {
   "cell_type": "code",
   "execution_count": 7,
   "metadata": {},
   "outputs": [
    {
     "name": "stdout",
     "output_type": "stream",
     "text": [
      "video 0 basic information：\n",
      "\n",
      "播放数量：677728\n",
      "弹幕数量：1367\n",
      "收藏数量：1823\n",
      "硬币数量：3776\n",
      "分享数量：458\n",
      "点赞数量：28641\n",
      "评论数量：1521\n"
     ]
    }
   ],
   "source": [
    "import json,requests,time\n",
    "import pandas as pd\n",
    "\n",
    "def get_base_info(oid):\n",
    "\tbase_info_url = f'https://api.bilibili.com/x/web-interface/archive/stat?aid={oid}'\n",
    "\tbase_info = requests.get(base_info_url,headers = dic_header).json()['data']\n",
    "\t#print(base_info) \n",
    "\tprint('video 0 basic information：\\n')\n",
    "\tprint('播放数量：{}\\n弹幕数量：{}\\n收藏数量：{}\\n硬币数量：{}\\n分享数量：{}\\n点赞数量：{}\\n评论数量：{}'.format(\n",
    "\t\t\tbase_info['view'],base_info['danmaku'],base_info['favorite'],\n",
    "\t\t\tbase_info['coin'],base_info['share'],base_info['like'],base_info['reply']\n",
    "\t\t))\n",
    "\t\t\n",
    "if __name__ == '__main__':\n",
    "\tdic_header = {'User-Agent': 'Mozilla/5.0'}\n",
    "\toid = 89369583\n",
    "\tget_base_info(oid)\n"
   ]
  },
  {
   "cell_type": "code",
   "execution_count": 8,
   "metadata": {},
   "outputs": [
    {
     "name": "stdout",
     "output_type": "stream",
     "text": [
      "video 1 basic information：\n",
      "\n",
      "播放数量：27284611\n",
      "弹幕数量：340196\n",
      "收藏数量：626468\n",
      "硬币数量：1071205\n",
      "分享数量：822637\n",
      "点赞数量：1824341\n",
      "评论数量：136408\n"
     ]
    }
   ],
   "source": [
    "def get_base_info(oid):\n",
    "\tbase_info_url = f'https://api.bilibili.com/x/web-interface/archive/stat?aid={oid}'\n",
    "\tbase_info = requests.get(base_info_url,headers = dic_header).json()['data']\n",
    "\t#print(base_info) \n",
    "\tprint('video 1 basic information：\\n')\n",
    "\tprint('播放数量：{}\\n弹幕数量：{}\\n收藏数量：{}\\n硬币数量：{}\\n分享数量：{}\\n点赞数量：{}\\n评论数量：{}'.format(\n",
    "\t\t\tbase_info['view'],base_info['danmaku'],base_info['favorite'],\n",
    "\t\t\tbase_info['coin'],base_info['share'],base_info['like'],base_info['reply']\n",
    "\t\t))\n",
    "\t\t\n",
    "if __name__ == '__main__':\n",
    "\tdic_header = {'User-Agent': 'Mozilla/5.0'}\n",
    "\toid = 89441613\n",
    "\tget_base_info(oid)\n"
   ]
  },
  {
   "cell_type": "code",
   "execution_count": 9,
   "metadata": {},
   "outputs": [
    {
     "name": "stdout",
     "output_type": "stream",
     "text": [
      "video 2 basic information：\n",
      "\n",
      "播放数量：1055684\n",
      "弹幕数量：8154\n",
      "收藏数量：8757\n",
      "硬币数量：13420\n",
      "分享数量：4279\n",
      "点赞数量：80203\n",
      "评论数量：5266\n"
     ]
    }
   ],
   "source": [
    "def get_base_info(oid):\n",
    "\tbase_info_url = f'https://api.bilibili.com/x/web-interface/archive/stat?aid={oid}'\n",
    "\tbase_info = requests.get(base_info_url,headers = dic_header).json()['data']\n",
    "\t#print(base_info) \n",
    "\tprint('video 2 basic information：\\n')\n",
    "\tprint('播放数量：{}\\n弹幕数量：{}\\n收藏数量：{}\\n硬币数量：{}\\n分享数量：{}\\n点赞数量：{}\\n评论数量：{}'.format(\n",
    "\t\t\tbase_info['view'],base_info['danmaku'],base_info['favorite'],\n",
    "\t\t\tbase_info['coin'],base_info['share'],base_info['like'],base_info['reply']\n",
    "\t\t))\n",
    "\t\t\n",
    "if __name__ == '__main__':\n",
    "\tdic_header = {'User-Agent': 'Mozilla/5.0'}\n",
    "\toid = 89729997\n",
    "\tget_base_info(oid)\n"
   ]
  },
  {
   "cell_type": "code",
   "execution_count": 10,
   "metadata": {},
   "outputs": [
    {
     "name": "stdout",
     "output_type": "stream",
     "text": [
      "video 3 basic information：\n",
      "\n",
      "播放数量：5360408\n",
      "弹幕数量：70408\n",
      "收藏数量：80574\n",
      "硬币数量：88819\n",
      "分享数量：54371\n",
      "点赞数量：337347\n",
      "评论数量：22701\n"
     ]
    }
   ],
   "source": [
    "def get_base_info(oid):\n",
    "\tbase_info_url = f'https://api.bilibili.com/x/web-interface/archive/stat?aid={oid}'\n",
    "\tbase_info = requests.get(base_info_url,headers = dic_header).json()['data']\n",
    "\t#print(base_info) \n",
    "\tprint('video 3 basic information：\\n')\n",
    "\tprint('播放数量：{}\\n弹幕数量：{}\\n收藏数量：{}\\n硬币数量：{}\\n分享数量：{}\\n点赞数量：{}\\n评论数量：{}'.format(\n",
    "\t\t\tbase_info['view'],base_info['danmaku'],base_info['favorite'],\n",
    "\t\t\tbase_info['coin'],base_info['share'],base_info['like'],base_info['reply']\n",
    "\t\t))\n",
    "\t\t\n",
    "if __name__ == '__main__':\n",
    "\tdic_header = {'User-Agent': 'Mozilla/5.0'}\n",
    "\toid = 90650376\n",
    "\tget_base_info(oid)\n"
   ]
  },
  {
   "cell_type": "code",
   "execution_count": 11,
   "metadata": {},
   "outputs": [
    {
     "name": "stdout",
     "output_type": "stream",
     "text": [
      "video 4 basic information：\n",
      "\n",
      "播放数量：3023075\n",
      "弹幕数量：16994\n",
      "收藏数量：30708\n",
      "硬币数量：32765\n",
      "分享数量：20036\n",
      "点赞数量：192884\n",
      "评论数量：10634\n"
     ]
    }
   ],
   "source": [
    "def get_base_info(oid):\n",
    "\tbase_info_url = f'https://api.bilibili.com/x/web-interface/archive/stat?aid={oid}'\n",
    "\tbase_info = requests.get(base_info_url,headers = dic_header).json()['data']\n",
    "\t#print(base_info) \n",
    "\tprint('video 4 basic information：\\n')\n",
    "\tprint('播放数量：{}\\n弹幕数量：{}\\n收藏数量：{}\\n硬币数量：{}\\n分享数量：{}\\n点赞数量：{}\\n评论数量：{}'.format(\n",
    "\t\t\tbase_info['view'],base_info['danmaku'],base_info['favorite'],\n",
    "\t\t\tbase_info['coin'],base_info['share'],base_info['like'],base_info['reply']\n",
    "\t\t))\n",
    "\t\t\n",
    "if __name__ == '__main__':\n",
    "\tdic_header = {'User-Agent': 'Mozilla/5.0'}\n",
    "\toid = 91407248\n",
    "\tget_base_info(oid)\n"
   ]
  },
  {
   "cell_type": "code",
   "execution_count": 12,
   "metadata": {},
   "outputs": [
    {
     "name": "stdout",
     "output_type": "stream",
     "text": [
      "video 5 basic information：\n",
      "\n",
      "播放数量：4793068\n",
      "弹幕数量：80736\n",
      "收藏数量：103234\n",
      "硬币数量：156921\n",
      "分享数量：55233\n",
      "点赞数量：361207\n",
      "评论数量：23897\n"
     ]
    }
   ],
   "source": [
    "def get_base_info(oid):\n",
    "\tbase_info_url = f'https://api.bilibili.com/x/web-interface/archive/stat?aid={oid}'\n",
    "\tbase_info = requests.get(base_info_url,headers = dic_header).json()['data']\n",
    "\t#print(base_info) \n",
    "\tprint('video 5 basic information：\\n')\n",
    "\tprint('播放数量：{}\\n弹幕数量：{}\\n收藏数量：{}\\n硬币数量：{}\\n分享数量：{}\\n点赞数量：{}\\n评论数量：{}'.format(\n",
    "\t\t\tbase_info['view'],base_info['danmaku'],base_info['favorite'],\n",
    "\t\t\tbase_info['coin'],base_info['share'],base_info['like'],base_info['reply']\n",
    "\t\t))\n",
    "\t\t\n",
    "if __name__ == '__main__':\n",
    "\tdic_header = {'User-Agent': 'Mozilla/5.0'}\n",
    "\toid = 91750514\n",
    "\tget_base_info(oid)\n"
   ]
  },
  {
   "cell_type": "code",
   "execution_count": 14,
   "metadata": {},
   "outputs": [
    {
     "data": {
      "text/html": [
       "<div>\n",
       "<style scoped>\n",
       "    .dataframe tbody tr th:only-of-type {\n",
       "        vertical-align: middle;\n",
       "    }\n",
       "\n",
       "    .dataframe tbody tr th {\n",
       "        vertical-align: top;\n",
       "    }\n",
       "\n",
       "    .dataframe thead th {\n",
       "        text-align: right;\n",
       "    }\n",
       "</style>\n",
       "<table border=\"1\" class=\"dataframe\">\n",
       "  <thead>\n",
       "    <tr style=\"text-align: right;\">\n",
       "      <th></th>\n",
       "      <th>video</th>\n",
       "      <th>view</th>\n",
       "      <th>danmaku</th>\n",
       "      <th>collection</th>\n",
       "      <th>coin</th>\n",
       "      <th>share</th>\n",
       "      <th>like</th>\n",
       "      <th>comment</th>\n",
       "    </tr>\n",
       "  </thead>\n",
       "  <tbody>\n",
       "    <tr>\n",
       "      <th>0</th>\n",
       "      <td>video 0</td>\n",
       "      <td>677726</td>\n",
       "      <td>1367</td>\n",
       "      <td>1823</td>\n",
       "      <td>3776</td>\n",
       "      <td>458</td>\n",
       "      <td>28461</td>\n",
       "      <td>1521</td>\n",
       "    </tr>\n",
       "    <tr>\n",
       "      <th>1</th>\n",
       "      <td>video 1</td>\n",
       "      <td>27283322</td>\n",
       "      <td>340191</td>\n",
       "      <td>626460</td>\n",
       "      <td>1071189</td>\n",
       "      <td>822631</td>\n",
       "      <td>1824301</td>\n",
       "      <td>136407</td>\n",
       "    </tr>\n",
       "    <tr>\n",
       "      <th>2</th>\n",
       "      <td>video 2</td>\n",
       "      <td>1055665</td>\n",
       "      <td>8154</td>\n",
       "      <td>8757</td>\n",
       "      <td>13420</td>\n",
       "      <td>4278</td>\n",
       "      <td>80203</td>\n",
       "      <td>5266</td>\n",
       "    </tr>\n",
       "    <tr>\n",
       "      <th>3</th>\n",
       "      <td>video 3</td>\n",
       "      <td>5360247</td>\n",
       "      <td>70407</td>\n",
       "      <td>80570</td>\n",
       "      <td>88817</td>\n",
       "      <td>54369</td>\n",
       "      <td>337339</td>\n",
       "      <td>22701</td>\n",
       "    </tr>\n",
       "    <tr>\n",
       "      <th>4</th>\n",
       "      <td>video 4</td>\n",
       "      <td>3023047</td>\n",
       "      <td>16994</td>\n",
       "      <td>30708</td>\n",
       "      <td>32765</td>\n",
       "      <td>20036</td>\n",
       "      <td>192883</td>\n",
       "      <td>10634</td>\n",
       "    </tr>\n",
       "    <tr>\n",
       "      <th>5</th>\n",
       "      <td>video 5</td>\n",
       "      <td>4792927</td>\n",
       "      <td>80736</td>\n",
       "      <td>103231</td>\n",
       "      <td>156919</td>\n",
       "      <td>55232</td>\n",
       "      <td>361197</td>\n",
       "      <td>23895</td>\n",
       "    </tr>\n",
       "  </tbody>\n",
       "</table>\n",
       "</div>"
      ],
      "text/plain": [
       "     video      view  danmaku  collection     coin   share     like  comment\n",
       "0  video 0    677726     1367        1823     3776     458    28461     1521\n",
       "1  video 1  27283322   340191      626460  1071189  822631  1824301   136407\n",
       "2  video 2   1055665     8154        8757    13420    4278    80203     5266\n",
       "3  video 3   5360247    70407       80570    88817   54369   337339    22701\n",
       "4  video 4   3023047    16994       30708    32765   20036   192883    10634\n",
       "5  video 5   4792927    80736      103231   156919   55232   361197    23895"
      ]
     },
     "execution_count": 14,
     "metadata": {},
     "output_type": "execute_result"
    }
   ],
   "source": [
    "#put all results into dataframe\n",
    "df = pd.DataFrame({'video':['video 0','video 1','video 2','video 3','video 4','video 5'],\n",
    "                   'view':[677726,27283322,1055665,5360247,3023047,4792927],\n",
    "                   'danmaku':[1367,340191,8154,70407,16994,80736],\n",
    "                   'collection':[1823,626460,8757,80570,30708,103231],\n",
    "                   'coin':[3776,1071189,13420,88817,32765,156919],\n",
    "                   'share':[458,822631,4278,54369,20036,55232],\n",
    "                   'like':[28461,1824301,80203,337339,192883,361197],\n",
    "                   'comment':[1521,136407,5266,22701,10634,23895]})\n",
    "#save csv\n",
    "df.to_csv('BasicInformation.csv',encoding = 'gbk',index = False)\n",
    "df"
   ]
  },
  {
   "cell_type": "code",
   "execution_count": 15,
   "metadata": {},
   "outputs": [],
   "source": [
    "#import external packages \n",
    "import matplotlib.pyplot as plt"
   ]
  },
  {
   "cell_type": "code",
   "execution_count": 16,
   "metadata": {},
   "outputs": [
    {
     "data": {
      "image/png": "[encoded data removed]",
      "text/plain": [
       "<Figure size 432x288 with 1 Axes>"
      ]
     },
     "metadata": {
      "needs_background": "light"
     },
     "output_type": "display_data"
    }
   ],
   "source": [
    "df.plot('video','view')\n",
    "plt.ylabel('Number')\n",
    "plt.show()"
   ]
  },
  {
   "cell_type": "code",
   "execution_count": 20,
   "metadata": {},
   "outputs": [
    {
     "data": {
      "image/png": "[encoded data removed]",
      "text/plain": [
       "<Figure size 432x288 with 1 Axes>"
      ]
     },
     "metadata": {
      "needs_background": "light"
     },
     "output_type": "display_data"
    }
   ],
   "source": [
    "plt.figure()\n",
    "df_d = df['danmaku']\n",
    "df_col = df['collection']\n",
    "df_coi = df['coin']\n",
    "df_s = df['share']\n",
    "df_l = df['like']\n",
    "df_c = df['comment']\n",
    "df_d.plot(color='b', style='-', legend=True)\n",
    "df_col.plot(color='r', style='-', legend=True)\n",
    "df_coi.plot(color='y',style='-',legend=True)\n",
    "df_s.plot(color='c',style='-',legend=True)\n",
    "df_l.plot(color='g',style='-',legend=True)\n",
    "df_c.plot(color='k',style='-',legend=True)\n",
    "plt.xlabel('video')\n",
    "plt.ylabel('Number')\n",
    "plt.show()"
   ]
  }
 ],
 "metadata": {
  "kernelspec": {
   "display_name": "Python 3",
   "language": "python",
   "name": "python3"
  },
  "language_info": {
   "codemirror_mode": {
    "name": "ipython",
    "version": 3
   },
   "file_extension": ".py",
   "mimetype": "text/x-python",
   "name": "python",
   "nbconvert_exporter": "python",
   "pygments_lexer": "ipython3",
   "version": "3.8.3"
  }
 },
 "nbformat": 4,
 "nbformat_minor": 4
}
